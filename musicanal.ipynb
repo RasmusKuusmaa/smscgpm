{
 "cells": [
  {
   "cell_type": "code",
   "execution_count": 69,
   "id": "d9e8d2a6-c93c-45b7-9637-eb3023ef6eb1",
   "metadata": {},
   "outputs": [
    {
     "data": {
      "text/plain": [
       "array(['HipHop'], dtype=object)"
      ]
     },
     "execution_count": 69,
     "metadata": {},
     "output_type": "execute_result"
    }
   ],
   "source": [
    "import pandas as pd\n",
    "from sklearn.tree import DecisionTreeClassifier\n",
    "from sklearn.model_selection import train_test_split\n",
    "from sklearn.metrics import accuracy_score\n",
    "import joblib\n",
    "'''\n",
    "music_data = pd.read_csv('music.csv')\n",
    "x = music_data.drop(columns=['genre'])\n",
    "y = music_data['genre']\n",
    "x_train, x_test, y_train, y_test = train_test_split(x, y, test_size=0.2)\n",
    "model = DecisionTreeClassifier()\n",
    "model.fit(x_train, y_train)\n",
    "joblib.dump(model, 'musrec.joblib')\n",
    "#preds = model.predict(x_test)\n",
    "#score = accuracy_score(y_test, preds)\n",
    "#score\n",
    "'''\n",
    "model = joblib.load('musrec.joblib')\n",
    "feature_names = ['age', 'gender']\n",
    "input_data = pd.DataFrame([[21,1]] , columns=feature_names)\n",
    "preds = model.predict(input_data)\n",
    "preds"
   ]
  },
  {
   "cell_type": "code",
   "execution_count": null,
   "id": "cf9b6c80-72a0-42c6-a6a0-28aad6e355b4",
   "metadata": {},
   "outputs": [],
   "source": []
  }
 ],
 "metadata": {
  "kernelspec": {
   "display_name": "Python 3 (ipykernel)",
   "language": "python",
   "name": "python3"
  },
  "language_info": {
   "codemirror_mode": {
    "name": "ipython",
    "version": 3
   },
   "file_extension": ".py",
   "mimetype": "text/x-python",
   "name": "python",
   "nbconvert_exporter": "python",
   "pygments_lexer": "ipython3",
   "version": "3.12.4"
  }
 },
 "nbformat": 4,
 "nbformat_minor": 5
}
